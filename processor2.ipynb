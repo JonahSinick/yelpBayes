{
 "metadata": {
  "name": "",
  "signature": "sha256:661273529efb9dc9872393d3da3ea23b28f62fe8c0eae89a01b0fab9fd4e16d7"
 },
 "nbformat": 3,
 "nbformat_minor": 0,
 "worksheets": [
  {
   "cells": [
    {
     "cell_type": "code",
     "collapsed": false,
     "input": [
      "import csv\n",
      "import pandas as pd\n",
      "import numpy as np\n"
     ],
     "language": "python",
     "metadata": {},
     "outputs": [],
     "prompt_number": 45
    },
    {
     "cell_type": "code",
     "collapsed": false,
     "input": [],
     "language": "python",
     "metadata": {},
     "outputs": [],
     "prompt_number": 45
    },
    {
     "cell_type": "code",
     "collapsed": false,
     "input": [
      "#Select restaurants\n",
      "\n",
      "bus = pd.read_csv(\"yelp_academic_dataset_business.csv\", low_memory=False )\n",
      "bus.rename(columns={'business_id': 'bid'}, inplace=True)\n",
      "bus = bus[bus[\"categories\"].notnull()]\n",
      "bus = bus[bus[\"categories\"].str.contains(\",Restaurants|Restaurants,\")]\n",
      "bus = bus[[\"bid\", \"stars\", \"categories\"]]"
     ],
     "language": "python",
     "metadata": {},
     "outputs": [],
     "prompt_number": 46
    },
    {
     "cell_type": "code",
     "collapsed": false,
     "input": [
      "# Select categories with at least 100 restaurants\n",
      "from operator import itemgetter\n",
      "\n",
      "cats = list(bus[\"categories\"].apply(lambda x: x.split(\",\")))\n",
      "cats = sum(cats,[])\n",
      "h = {}\n",
      "for x in cats:\n",
      "    h[x] = h.setdefault(x, 0) + 1\n",
      "cats = [[x, h[x]] for x in h.keys()]\n",
      "cats.sort(key=itemgetter(1), reverse=True)\n",
      "cats = cats[1:]\n",
      "cats = [x[0] for x in cats if 100 <= x[1]]\n"
     ],
     "language": "python",
     "metadata": {},
     "outputs": [],
     "prompt_number": 47
    },
    {
     "cell_type": "code",
     "collapsed": false,
     "input": [
      "# Add category column\n",
      "bus[\"category\"] = \"\"\n",
      "for cat in cats:\n",
      "    bus.loc[bus.categories.str.contains(cat),[\"category\"]] = cat\n",
      "bus = bus[bus[\"category\"] != \"\"]\n"
     ],
     "language": "python",
     "metadata": {},
     "outputs": [],
     "prompt_number": 48
    },
    {
     "cell_type": "code",
     "collapsed": false,
     "input": [
      "#Clean reviews\n",
      "\n",
      "reviews = pd.read_csv(\"yelp_academic_dataset_review.csv\")\n",
      "reviews.rename(columns={'business_id': 'bid', \"user_id\": \"uid\"}, inplace=True)\n",
      "reviews = reviews[[\"bid\", \"uid\",\"date\", \"stars\"]]\n",
      "reviews = reviews[reviews[\"bid\"].isin(bus[\"bid\"])]\n",
      "reviews = pd.merge(reviews, bus[[\"bid\", \"category\"]], on = \"bid\")\n",
      "\n",
      "reviews[\"date\"] = pd.to_datetime(reviews['date']).apply(lambda x: str(x))\n",
      "reviews[\"date\"] = reviews[\"date\"].apply(lambda x: 365*int(x[0:4]) + 30*int(x[5:7]) + int(x[8:10]) )\n"
     ],
     "language": "python",
     "metadata": {},
     "outputs": [],
     "prompt_number": 49
    },
    {
     "cell_type": "code",
     "collapsed": false,
     "input": [],
     "language": "python",
     "metadata": {},
     "outputs": [],
     "prompt_number": 49
    },
    {
     "cell_type": "code",
     "collapsed": false,
     "input": [
      "# Convert bids and uids to numbers and add review counts\n",
      "\n",
      "for colname in [\"bid\", \"uid\"]:\n",
      "    counted = reviews.groupby(colname).count()\n",
      "    count, colnameNum = (colname[0] + \"Count\"), (\"n_\" + colname)\n",
      "    counted[count],  counted[colname] = counted[\"stars\"], counted.index\n",
      "    counted[colnameNum] = [i for i in range(len(counted.index))]\n",
      "    reviews = pd.merge(reviews, counted[[colname, count,colnameNum]], on = colname)\n",
      "\n",
      "reviews[\"uid\"], reviews[\"bid\"] = reviews[\"n_uid\"], reviews[\"n_bid\"]\n",
      "reviews = reviews.drop([\"n_uid\", \"n_bid\", ], axis = 1)"
     ],
     "language": "python",
     "metadata": {},
     "outputs": [],
     "prompt_number": 50
    },
    {
     "cell_type": "code",
     "collapsed": false,
     "input": [
      "# Add moving average and number of reviews\n",
      "\n",
      "reviews  = reviews.sort([\"bid\", \"date\"])\n",
      "stars, counts = {}, {}\n",
      "arr1, arr2 = list(reviews.bid), list(reviews.stars)\n",
      "for i in range(len(arr1)):\n",
      "    bid, star = arr1[i], arr2[i]\n",
      "    if stars.has_key(bid):\n",
      "        stars[bid].append(stars[bid][-1] +star)\n",
      "        counts[bid].append(counts[bid][-1] +1)\n",
      "    else:\n",
      "        stars[bid] =[star]\n",
      "        counts[bid] =[1]        \n",
      "\n",
      "starsArr, countsArr, keys = list(), list(), stars.keys()\n",
      "for key in keys:\n",
      "    l = stars[key]\n",
      "    for x in l:\n",
      "        starsArr.append(x)\n",
      "    l = counts[key]\n",
      "    for x in l:\n",
      "        countsArr.append(x)    \n",
      "\n",
      "reviews[\"movingCount\"], reviews[\"movingSum\"] = countsArr, starsArr\n",
      "reviews[\"movingAvg\"] = (reviews[\"movingSum\"] - reviews[\"stars\"])/(reviews[\"movingCount\"] - 1)\n",
      "reviews = reviews.drop([\"movingSum\"], axis = 1)"
     ],
     "language": "python",
     "metadata": {},
     "outputs": [],
     "prompt_number": 51
    },
    {
     "cell_type": "code",
     "collapsed": false,
     "input": [],
     "language": "python",
     "metadata": {},
     "outputs": [
      {
       "metadata": {},
       "output_type": "pyout",
       "prompt_number": 52,
       "text": [
        "869424         inf\n",
        "154528    5.000000\n",
        "216109    5.000000\n",
        "869427    5.000000\n",
        "226220    5.000000\n",
        "124482    4.800000\n",
        "308573    4.833333\n",
        "527519    4.714286\n",
        "869428    4.750000\n",
        "317158    4.777778\n",
        "287962    4.700000\n",
        "680031    4.727273\n",
        "869429    4.750000\n",
        "607432    4.769231\n",
        "120071    4.785714\n",
        "...\n",
        "798095    3.333333\n",
        "796057    3.500000\n",
        "773681    3.800000\n",
        "843314    3.833333\n",
        "796306    4.000000\n",
        "840743    4.000000\n",
        "797658    4.111111\n",
        "797956    3.900000\n",
        "798779    3.818182\n",
        "801188    3.750000\n",
        "796874    3.769231\n",
        "764851         inf\n",
        "481253    4.000000\n",
        "770472    3.500000\n",
        "768932    4.000000\n",
        "Name: movingAvg, Length: 916800, dtype: float64"
       ]
      }
     ],
     "prompt_number": 52
    },
    {
     "cell_type": "code",
     "collapsed": false,
     "input": [
      "agged = reviews.groupby(\"bid\").mean()"
     ],
     "language": "python",
     "metadata": {},
     "outputs": [],
     "prompt_number": 53
    },
    {
     "cell_type": "code",
     "collapsed": false,
     "input": [
      "reviews.to_csv(\"cleanedReviews.csv\")\n",
      "agged.to_csv(\"cleanedBus.csv\")"
     ],
     "language": "python",
     "metadata": {},
     "outputs": [],
     "prompt_number": 54
    },
    {
     "cell_type": "code",
     "collapsed": false,
     "input": [],
     "language": "python",
     "metadata": {},
     "outputs": [],
     "prompt_number": 54
    },
    {
     "cell_type": "code",
     "collapsed": false,
     "input": [],
     "language": "python",
     "metadata": {},
     "outputs": [
      {
       "html": [
        "<div style=\"max-height:1000px;max-width:1500px;overflow:auto;\">\n",
        "<table border=\"1\" class=\"dataframe\">\n",
        "  <thead>\n",
        "    <tr style=\"text-align: right;\">\n",
        "      <th></th>\n",
        "      <th>movingAvg</th>\n",
        "      <th>stars</th>\n",
        "    </tr>\n",
        "  </thead>\n",
        "  <tbody>\n",
        "    <tr>\n",
        "      <th>movingAvg</th>\n",
        "      <td> 1.000000</td>\n",
        "      <td> 0.338227</td>\n",
        "    </tr>\n",
        "    <tr>\n",
        "      <th>stars</th>\n",
        "      <td> 0.338227</td>\n",
        "      <td> 1.000000</td>\n",
        "    </tr>\n",
        "  </tbody>\n",
        "</table>\n",
        "</div>"
       ],
       "metadata": {},
       "output_type": "pyout",
       "prompt_number": 56,
       "text": [
        "           movingAvg     stars\n",
        "movingAvg   1.000000  0.338227\n",
        "stars       0.338227  1.000000"
       ]
      }
     ],
     "prompt_number": 56
    },
    {
     "cell_type": "code",
     "collapsed": false,
     "input": [],
     "language": "python",
     "metadata": {},
     "outputs": []
    },
    {
     "cell_type": "code",
     "collapsed": false,
     "input": [],
     "language": "python",
     "metadata": {},
     "outputs": []
    },
    {
     "cell_type": "code",
     "collapsed": false,
     "input": [],
     "language": "python",
     "metadata": {},
     "outputs": []
    },
    {
     "cell_type": "code",
     "collapsed": false,
     "input": [],
     "language": "python",
     "metadata": {},
     "outputs": []
    },
    {
     "cell_type": "code",
     "collapsed": false,
     "input": [],
     "language": "python",
     "metadata": {},
     "outputs": []
    },
    {
     "cell_type": "code",
     "collapsed": false,
     "input": [],
     "language": "python",
     "metadata": {},
     "outputs": []
    },
    {
     "cell_type": "code",
     "collapsed": false,
     "input": [],
     "language": "python",
     "metadata": {},
     "outputs": []
    }
   ],
   "metadata": {}
  }
 ]
}